{
 "cells": [
  {
   "cell_type": "markdown",
   "metadata": {},
   "source": [
    "# MNIST without Drop-out"
   ]
  },
  {
   "cell_type": "markdown",
   "metadata": {},
   "source": [
    "### Importing packages\n",
    "    - We only need these more additional package "
   ]
  },
  {
   "cell_type": "code",
   "execution_count": 35,
   "metadata": {},
   "outputs": [
    {
     "name": "stderr",
     "output_type": "stream",
     "text": [
      "Using TensorFlow backend.\n"
     ]
    }
   ],
   "source": [
    "from keras.datasets import mnist\n",
    "from keras.models import Sequential, load_model\n",
    "from keras.layers.core import Dense, Dropout, Activation\n",
    "from keras.utils import np_utils"
   ]
  },
  {
   "cell_type": "markdown",
   "metadata": {},
   "source": [
    "### Initializations and Loadings the data."
   ]
  },
  {
   "cell_type": "code",
   "execution_count": 36,
   "metadata": {},
   "outputs": [],
   "source": [
    "# Load data from keras.\n",
    "(X_train, y_train), (X_test, y_test) = mnist.load_data()"
   ]
  },
  {
   "cell_type": "code",
   "execution_count": 37,
   "metadata": {},
   "outputs": [],
   "source": [
    "# Reshaping and Flattening the data.\n",
    "\n",
    "X_train = X_train.reshape(60000, 784)\n",
    "X_test = X_test.reshape(10000, 784)\n",
    "X_train = X_train.astype('float32')\n",
    "X_test = X_test.astype('float32')\n",
    "\n",
    "X_train /= 255\n",
    "X_test /= 255"
   ]
  },
  {
   "cell_type": "code",
   "execution_count": 38,
   "metadata": {},
   "outputs": [
    {
     "name": "stdout",
     "output_type": "stream",
     "text": [
      "Shape before one-hot encoding:  (60000,)\n",
      "Shape after one-hot encoding:  (60000, 10)\n"
     ]
    }
   ],
   "source": [
    "# Using one-hot coding \n",
    "\n",
    "n_classes = 10\n",
    "print(\"Shape before one-hot encoding: \", y_train.shape)\n",
    "Y_train = np_utils.to_categorical(y_train, n_classes)\n",
    "Y_test = np_utils.to_categorical(y_test, n_classes)\n",
    "print(\"Shape after one-hot encoding: \", Y_train.shape)"
   ]
  },
  {
   "cell_type": "markdown",
   "metadata": {},
   "source": [
    "### Constructing the model using Keras framework"
   ]
  },
  {
   "cell_type": "code",
   "execution_count": 39,
   "metadata": {},
   "outputs": [],
   "source": [
    "# Building the model network.\n",
    "\n",
    "model = Sequential()\n",
    "model.add(Dense(512, input_shape=(784,)))\n",
    "model.add(Activation('relu'))                            \n",
    "\n",
    "model.add(Dense(512))\n",
    "model.add(Activation('relu'))\n",
    "\n",
    "model.add(Dense(10))\n",
    "model.add(Activation('softmax'))"
   ]
  },
  {
   "cell_type": "code",
   "execution_count": 40,
   "metadata": {},
   "outputs": [],
   "source": [
    "# Compiling the model.\n",
    "\n",
    "model.compile(loss='categorical_crossentropy', metrics=['accuracy'], optimizer='adam')\n",
    "\n",
    "# I could use Stochastic Gradient Descent or Adam optimizer, which adam in faster"
   ]
  },
  {
   "cell_type": "markdown",
   "metadata": {},
   "source": [
    "### Fitting the data to the model and trainning."
   ]
  },
  {
   "cell_type": "code",
   "execution_count": 41,
   "metadata": {},
   "outputs": [
    {
     "name": "stdout",
     "output_type": "stream",
     "text": [
      "Train on 60000 samples, validate on 10000 samples\n",
      "Epoch 1/20\n",
      " - 5s - loss: 0.2223 - accuracy: 0.9344 - val_loss: 0.1132 - val_accuracy: 0.9630\n",
      "Epoch 2/20\n",
      " - 4s - loss: 0.0814 - accuracy: 0.9742 - val_loss: 0.0791 - val_accuracy: 0.9735\n",
      "Epoch 3/20\n",
      " - 3s - loss: 0.0488 - accuracy: 0.9851 - val_loss: 0.0709 - val_accuracy: 0.9774\n",
      "Epoch 4/20\n",
      " - 3s - loss: 0.0360 - accuracy: 0.9878 - val_loss: 0.0673 - val_accuracy: 0.9803\n",
      "Epoch 5/20\n",
      " - 3s - loss: 0.0262 - accuracy: 0.9915 - val_loss: 0.0882 - val_accuracy: 0.9735\n",
      "Epoch 6/20\n",
      " - 3s - loss: 0.0224 - accuracy: 0.9928 - val_loss: 0.0684 - val_accuracy: 0.9821\n",
      "Epoch 7/20\n",
      " - 3s - loss: 0.0182 - accuracy: 0.9942 - val_loss: 0.0703 - val_accuracy: 0.9810\n",
      "Epoch 8/20\n",
      " - 3s - loss: 0.0148 - accuracy: 0.9948 - val_loss: 0.0764 - val_accuracy: 0.9800\n",
      "Epoch 9/20\n",
      " - 3s - loss: 0.0160 - accuracy: 0.9947 - val_loss: 0.0765 - val_accuracy: 0.9819\n",
      "Epoch 10/20\n",
      " - 3s - loss: 0.0112 - accuracy: 0.9962 - val_loss: 0.0816 - val_accuracy: 0.9808\n",
      "Epoch 11/20\n",
      " - 3s - loss: 0.0144 - accuracy: 0.9950 - val_loss: 0.0883 - val_accuracy: 0.9799\n",
      "Epoch 12/20\n",
      " - 3s - loss: 0.0134 - accuracy: 0.9955 - val_loss: 0.0800 - val_accuracy: 0.9821\n",
      "Epoch 13/20\n",
      " - 3s - loss: 0.0095 - accuracy: 0.9968 - val_loss: 0.1089 - val_accuracy: 0.9788\n",
      "Epoch 14/20\n",
      " - 3s - loss: 0.0090 - accuracy: 0.9970 - val_loss: 0.0775 - val_accuracy: 0.9843\n",
      "Epoch 15/20\n",
      " - 3s - loss: 0.0081 - accuracy: 0.9974 - val_loss: 0.0863 - val_accuracy: 0.9824\n",
      "Epoch 16/20\n",
      " - 3s - loss: 0.0096 - accuracy: 0.9970 - val_loss: 0.0986 - val_accuracy: 0.9812\n",
      "Epoch 17/20\n",
      " - 3s - loss: 0.0076 - accuracy: 0.9976 - val_loss: 0.0915 - val_accuracy: 0.9819\n",
      "Epoch 18/20\n",
      " - 3s - loss: 0.0099 - accuracy: 0.9968 - val_loss: 0.0868 - val_accuracy: 0.9839\n",
      "Epoch 19/20\n",
      " - 3s - loss: 0.0071 - accuracy: 0.9975 - val_loss: 0.0898 - val_accuracy: 0.9828\n",
      "Epoch 20/20\n",
      " - 3s - loss: 0.0044 - accuracy: 0.9985 - val_loss: 0.0852 - val_accuracy: 0.9849\n"
     ]
    }
   ],
   "source": [
    "# training the model and saving metrics in history\n",
    "\n",
    "history = model.fit(X_train, Y_train,\n",
    "          batch_size=128, epochs=20,\n",
    "          verbose=2,\n",
    "          validation_data=(X_test, Y_test))"
   ]
  },
  {
   "cell_type": "markdown",
   "metadata": {},
   "source": [
    "### Plotting the results"
   ]
  },
  {
   "cell_type": "code",
   "execution_count": 42,
   "metadata": {},
   "outputs": [
    {
     "data": {
      "image/png": "[encoded data removed]",
      "text/plain": [
       "<Figure size 432x288 with 1 Axes>"
      ]
     },
     "metadata": {
      "needs_background": "light"
     },
     "output_type": "display_data"
    },
    {
     "data": {
      "image/png": "[encoded data removed]",
      "text/plain": [
       "<Figure size 432x288 with 1 Axes>"
      ]
     },
     "metadata": {
      "needs_background": "light"
     },
     "output_type": "display_data"
    }
   ],
   "source": [
    "# plotting the metrics\n",
    "fig, ax = plt.subplots()\n",
    "x = range(1,len(history.history['loss'])+1)\n",
    "y = range(0,101,10)\n",
    "ax.grid(color='gray', alpha=0.25)\n",
    "ax.set_axisbelow(True)\n",
    "plt.title(\"Test Data\")\n",
    "plt.xlabel(\"Epoch\")\n",
    "plt.ylabel(\"Rate(%)\")\n",
    "plt.xticks(x)\n",
    "plt.yticks(y)\n",
    "plt.ylim(-5,105)\n",
    "ax.plot(x,100*np.array(history.history['val_loss']), label= 'loss')\n",
    "ax.plot(x,100*np.array(history.history['val_accuracy']), label='accuracy')\n",
    "ax.legend()\n",
    "plt.show()\n",
    "fig, ax = plt.subplots()\n",
    "ax.grid(color='gray', alpha=0.25)\n",
    "ax.set_axisbelow(True)\n",
    "plt.title(\"Training Data\")\n",
    "plt.xlabel(\"Epoch\")\n",
    "plt.ylabel(\"Rate(%)\")\n",
    "plt.xticks(x)\n",
    "plt.yticks(y)\n",
    "plt.ylim(-5,105)\n",
    "ax.plot(x,100*np.array(history.history['loss']), label= 'loss')\n",
    "ax.plot(x,100*np.array(history.history['accuracy']), label='accuracy')\n",
    "ax.legend()\n",
    "plt.show()"
   ]
  },
  {
   "cell_type": "markdown",
   "metadata": {},
   "source": [
    "# MNIST with Drop-out"
   ]
  },
  {
   "cell_type": "markdown",
   "metadata": {},
   "source": [
    "### changing the model to use dropout."
   ]
  },
  {
   "cell_type": "code",
   "execution_count": 43,
   "metadata": {},
   "outputs": [
    {
     "name": "stdout",
     "output_type": "stream",
     "text": [
      "WARNING:tensorflow:Large dropout rate: 0.8 (>0.5). In TensorFlow 2.x, dropout() uses dropout rate instead of keep_prob. Please ensure that this is intended.\n",
      "WARNING:tensorflow:Large dropout rate: 0.8 (>0.5). In TensorFlow 2.x, dropout() uses dropout rate instead of keep_prob. Please ensure that this is intended.\n"
     ]
    }
   ],
   "source": [
    "model = Sequential()\n",
    "model.add(Dense(512, input_shape=(784,)))\n",
    "model.add(Activation('relu'))                            \n",
    "model.add(Dropout(0.8))\n",
    "\n",
    "model.add(Dense(512))\n",
    "model.add(Activation('relu'))\n",
    "model.add(Dropout(0.8))\n",
    "\n",
    "model.add(Dense(10))\n",
    "model.add(Activation('softmax'))"
   ]
  },
  {
   "cell_type": "markdown",
   "metadata": {},
   "source": [
    "### Compiling and Fitting the data to model."
   ]
  },
  {
   "cell_type": "code",
   "execution_count": 44,
   "metadata": {},
   "outputs": [],
   "source": [
    "# Compiling the model.\n",
    "\n",
    "model.compile(loss='categorical_crossentropy', metrics=['accuracy'], optimizer='adam')"
   ]
  },
  {
   "cell_type": "code",
   "execution_count": 45,
   "metadata": {},
   "outputs": [
    {
     "name": "stdout",
     "output_type": "stream",
     "text": [
      "Train on 60000 samples, validate on 10000 samples\n",
      "Epoch 1/20\n",
      " - 4s - loss: 0.7917 - accuracy: 0.7451 - val_loss: 0.2331 - val_accuracy: 0.9299\n",
      "Epoch 2/20\n",
      " - 3s - loss: 0.4008 - accuracy: 0.8819 - val_loss: 0.1746 - val_accuracy: 0.9487\n",
      "Epoch 3/20\n",
      " - 3s - loss: 0.3370 - accuracy: 0.9030 - val_loss: 0.1539 - val_accuracy: 0.9551\n",
      "Epoch 4/20\n",
      " - 3s - loss: 0.3036 - accuracy: 0.9141 - val_loss: 0.1349 - val_accuracy: 0.9603\n",
      "Epoch 5/20\n",
      " - 3s - loss: 0.2832 - accuracy: 0.9190 - val_loss: 0.1253 - val_accuracy: 0.9622\n",
      "Epoch 6/20\n",
      " - 3s - loss: 0.2662 - accuracy: 0.9239 - val_loss: 0.1221 - val_accuracy: 0.9657\n",
      "Epoch 7/20\n",
      " - 3s - loss: 0.2495 - accuracy: 0.9291 - val_loss: 0.1156 - val_accuracy: 0.9672\n",
      "Epoch 8/20\n",
      " - 3s - loss: 0.2413 - accuracy: 0.9307 - val_loss: 0.1112 - val_accuracy: 0.9674\n",
      "Epoch 9/20\n",
      " - 3s - loss: 0.2365 - accuracy: 0.9326 - val_loss: 0.1096 - val_accuracy: 0.9688\n",
      "Epoch 10/20\n",
      " - 3s - loss: 0.2299 - accuracy: 0.9344 - val_loss: 0.1045 - val_accuracy: 0.9684\n",
      "Epoch 11/20\n",
      " - 3s - loss: 0.2242 - accuracy: 0.9370 - val_loss: 0.1056 - val_accuracy: 0.9696\n",
      "Epoch 12/20\n",
      " - 3s - loss: 0.2207 - accuracy: 0.9378 - val_loss: 0.1024 - val_accuracy: 0.9704\n",
      "Epoch 13/20\n",
      " - 3s - loss: 0.2131 - accuracy: 0.9390 - val_loss: 0.1023 - val_accuracy: 0.9701\n",
      "Epoch 14/20\n",
      " - 3s - loss: 0.2146 - accuracy: 0.9399 - val_loss: 0.0983 - val_accuracy: 0.9703\n",
      "Epoch 15/20\n",
      " - 3s - loss: 0.2084 - accuracy: 0.9413 - val_loss: 0.1004 - val_accuracy: 0.9710\n",
      "Epoch 16/20\n",
      " - 3s - loss: 0.2045 - accuracy: 0.9428 - val_loss: 0.0964 - val_accuracy: 0.9727\n",
      "Epoch 17/20\n",
      " - 3s - loss: 0.1976 - accuracy: 0.9434 - val_loss: 0.0951 - val_accuracy: 0.9738\n",
      "Epoch 18/20\n",
      " - 3s - loss: 0.1961 - accuracy: 0.9441 - val_loss: 0.0943 - val_accuracy: 0.9737\n",
      "Epoch 19/20\n",
      " - 3s - loss: 0.1955 - accuracy: 0.9446 - val_loss: 0.0949 - val_accuracy: 0.9722\n",
      "Epoch 20/20\n",
      " - 3s - loss: 0.1953 - accuracy: 0.9450 - val_loss: 0.0917 - val_accuracy: 0.9737\n"
     ]
    }
   ],
   "source": [
    "# Fitting the model.\n",
    "\n",
    "history = model.fit(X_train, Y_train,\n",
    "          batch_size=128, epochs=20,\n",
    "          verbose=2,\n",
    "          validation_data=(X_test, Y_test))"
   ]
  },
  {
   "cell_type": "markdown",
   "metadata": {},
   "source": [
    "### Plotting the result"
   ]
  },
  {
   "cell_type": "code",
   "execution_count": 46,
   "metadata": {},
   "outputs": [
    {
     "data": {
      "image/png": "[encoded data removed]",
      "text/plain": [
       "<Figure size 432x288 with 1 Axes>"
      ]
     },
     "metadata": {
      "needs_background": "light"
     },
     "output_type": "display_data"
    },
    {
     "data": {
      "image/png": "[encoded data removed]",
      "text/plain": [
       "<Figure size 432x288 with 1 Axes>"
      ]
     },
     "metadata": {
      "needs_background": "light"
     },
     "output_type": "display_data"
    }
   ],
   "source": [
    "# plotting the metrics\n",
    "\n",
    "fig, ax = plt.subplots()\n",
    "x = range(1,len(history.history['loss'])+1)\n",
    "y = range(0,101,10)\n",
    "ax.grid(color='gray', alpha=0.25)\n",
    "ax.set_axisbelow(True)\n",
    "plt.title(\"Test Data\")\n",
    "plt.xlabel(\"Epoch\")\n",
    "plt.ylabel(\"Rate(%)\")\n",
    "plt.xticks(x)\n",
    "plt.yticks(y)\n",
    "plt.ylim(-5,105)\n",
    "ax.plot(x,100*np.array(history.history['val_loss']), label= 'loss')\n",
    "ax.plot(x,100*np.array(history.history['val_accuracy']), label='accuracy')\n",
    "ax.legend()\n",
    "plt.show()\n",
    "fig, ax = plt.subplots()\n",
    "ax.grid(color='gray', alpha=0.25)\n",
    "ax.set_axisbelow(True)\n",
    "plt.title(\"Training Data\")\n",
    "plt.xlabel(\"Epoch\")\n",
    "plt.ylabel(\"Rate(%)\")\n",
    "plt.xticks(x)\n",
    "plt.yticks(y)\n",
    "plt.ylim(-5,105)\n",
    "ax.plot(x,100*np.array(history.history['loss']), label= 'loss')\n",
    "ax.plot(x,100*np.array(history.history['accuracy']), label='accuracy')\n",
    "ax.legend()\n",
    "plt.show()"
   ]
  },
  {
   "cell_type": "markdown",
   "metadata": {},
   "source": [
    "### Explaination of Dropout\n",
    "    - When using dropout, we turn neurons off by a keep_probs ratio, So the model is less likely to overfit the data,\n",
    "    So difference between accuracy on test and trainning set would be smaller.\n",
    "    Here I used a 80% dropout rate for example."
   ]
  }
 ],
 "metadata": {
  "kernelspec": {
   "display_name": "Python 3",
   "language": "python",
   "name": "python3"
  },
  "language_info": {
   "codemirror_mode": {
    "name": "ipython",
    "version": 3
   },
   "file_extension": ".py",
   "mimetype": "text/x-python",
   "name": "python",
   "nbconvert_exporter": "python",
   "pygments_lexer": "ipython3",
   "version": "3.7.6"
  }
 },
 "nbformat": 4,
 "nbformat_minor": 4
}
